{
 "cells": [
  {
   "cell_type": "code",
   "execution_count": null,
   "id": "12faffb8-639a-45b7-a217-001583a90091",
   "metadata": {},
   "outputs": [],
   "source": [
    "import geopandas\n",
    "import math\n",
    "import numpy as np\n",
    "import pandas as pd\n",
    "import shapely\n",
    "import shapely.vectorized"
   ]
  },
  {
   "cell_type": "code",
   "execution_count": null,
   "id": "7c2f150e-c662-486e-96e2-5eeedb4300b9",
   "metadata": {},
   "outputs": [],
   "source": [
    "def generate_area_cell(lat, lon, degrees): \n",
    "    # calculate the area of a gridcell given the center lat and lon and the size in degrees\n",
    "    if lon <0:\n",
    "        lon+=360\n",
    "    R = 6371\n",
    "    f0 = math.radians(lat-degrees*0.5)\n",
    "    f1 = math.radians(lat+degrees*0.5)\n",
    "    l0 = math.radians(lon-degrees*0.5)\n",
    "    l1 = math.radians(lon+degrees*0.5)\n",
    "\n",
    "    return (math.sin(f1)-math.sin(f0)) * (l1 - l0) * R**2"
   ]
  },
  {
   "cell_type": "code",
   "execution_count": null,
   "id": "7e918fca-4093-4e7d-aeda-a63d9786faba",
   "metadata": {},
   "outputs": [],
   "source": [
    "# make grids\n",
    "degrees = 0.5\n",
    "da_degrees = 2.5\n",
    "lons = np.linspace(-180+degrees*.5,180-degrees*.5,int(360/degrees))\n",
    "lats = np.linspace(-90+degrees*.5,90-degrees*.5,int(180/degrees))\n",
    "xv, yv = np.meshgrid(lons,lats)\n",
    "\n",
    "subgrid_df = pd.DataFrame({\"lat_05\": yv.ravel(),\"lon_05\": xv.ravel(),})\n",
    "subgrid_df['LAT'] = subgrid_df['lat_05']//da_degrees*da_degrees+da_degrees*0.5\n",
    "subgrid_df['LON'] = subgrid_df['lon_05']//da_degrees*da_degrees+da_degrees*0.5\n",
    "\n",
    "rescale_degrees = 5\n",
    "subgrid_df['LAT_5'] = subgrid_df['lat_05']//rescale_degrees*rescale_degrees+rescale_degrees*0.5\n",
    "subgrid_df['LON_5'] = subgrid_df['lon_05']//rescale_degrees*rescale_degrees+rescale_degrees*0.5\n",
    "\n",
    "rescale_degrees = 2.5\n",
    "subgrid_df['LAT_25'] = subgrid_df['lat_05']//rescale_degrees*rescale_degrees+rescale_degrees*0.5\n",
    "subgrid_df['LON_25'] = subgrid_df['lon_05']//rescale_degrees*rescale_degrees+rescale_degrees*0.5\n",
    "\n",
    "subgrid_df['area'] = subgrid_df.apply(lambda x: generate_area_cell(x['lat_05'], x['lon_05'], 0.5), axis=1)\n",
    "print(subgrid_df.shape)"
   ]
  },
  {
   "cell_type": "code",
   "execution_count": null,
   "id": "d9fe74a8-5c4c-4913-9c6a-cf7ec792acf0",
   "metadata": {},
   "outputs": [],
   "source": [
    "# match on shape files\n",
    "gdl = geopandas.read_file(\"data/worldbank_shapefiles/WB_countries_Admin0_10m.shp\")\n",
    "\n",
    "subgrid_df[\"ISO_A3\"] = np.nan\n",
    "subgrid_df[\"country\"] = np.nan\n",
    "for i, row in gdl.iterrows():\n",
    "    contains = shapely.vectorized.contains(row.geometry,xv,yv).ravel()\n",
    "    idx = np.argwhere(contains==True).ravel()\n",
    "\n",
    "    subgrid_df.loc[idx, \"ISO_A3\"]=row['ISO_A3']\n",
    "    subgrid_df.loc[idx, \"country\"]=row[\"NAME_EN\"]"
   ]
  },
  {
   "cell_type": "code",
   "execution_count": null,
   "id": "8e63d0cd-7f15-430e-a298-4d361e1c0afa",
   "metadata": {},
   "outputs": [],
   "source": [
    "# high and low income countries\n",
    "with open(\"data/high_income_countries.txt\") as f:\n",
    "    hic = f.readlines()\n",
    "    hic = [h.strip('\\n') for h in hic]\n",
    "with open(\"data/low_middle_income_countries.txt\") as f:\n",
    "    lic = f.readlines()\n",
    "    lic = [h.strip('\\n') for h in lic]    "
   ]
  },
  {
   "cell_type": "code",
   "execution_count": null,
   "id": "bf7a6c25-d0ae-49a4-b888-19868e52c780",
   "metadata": {},
   "outputs": [],
   "source": [
    "# clean countries to match shapefile names\n",
    "lic = pd.DataFrame({\"lic\":lic})\n",
    "lic.loc[lic.lic==\"China (People's Republic of)\"]=\"People's Republic of China\"\n",
    "lic.loc[lic.lic==\"Democratic Republic of Congo\"]=\"Democratic Republic of the Congo\"\n",
    "lic.loc[lic.lic==\"Congo\"]=\"Republic of the Congo\"\n",
    "lic.loc[lic.lic==\"Lao People's Democratic Republic\"]=\"Laos\"\n",
    "lic.loc[lic.lic==\"Democratic People's Republic of Korea\"] =\"North Korea\"\n",
    "lic.loc[lic.lic==\"North Macedonia\"] = \"Republic of Macedonia\"\n",
    "lic.loc[lic.lic==\"Timor-Leste\"] = \"East Timor\"\n",
    "lic.loc[lic.lic==\"Cabo Verde\"] = 'Cape Verde'\n",
    "lic.loc[lic.lic==\"Côte d'Ivoire\"] = 'Ivory Coast'\n",
    "lic.loc[lic.lic==\"Eswatini\"] = \"eSwatini\"\n",
    "lic.loc[lic.lic==\"Gambia\"] = \"The Gambia\"\n",
    "lic.loc[lic.lic==\"Syrian Arab Republic\"] = \"Syria\"\n",
    "\n",
    "hic = pd.DataFrame({\"hic\":hic})\n",
    "hic.loc[hic.hic==\"Bahamas, The\"]=\"Bahamas\"\n",
    "hic.loc[hic.hic==\"Korea, Rep.\"]=\"South Korea\"\n",
    "hic.loc[hic.hic==\"Taiwan, China\"]=\"Taiwan\"\n",
    "hic.loc[hic.hic==\"Slovak Republic\"]=\"Slovakia\"\n",
    "hic.loc[hic.hic==\"United States\"]=\"United States of America\""
   ]
  },
  {
   "cell_type": "code",
   "execution_count": null,
   "id": "9d9c6cd6-fcc4-4e7c-977e-e71503254bb5",
   "metadata": {},
   "outputs": [],
   "source": [
    "subgrid_df = subgrid_df.merge(lic,\n",
    "                           how=\"left\",\n",
    "                           left_on=\"country\",\n",
    "                           right_on=\"lic\"\n",
    "                )\n",
    "subgrid_df = subgrid_df.merge(hic,\n",
    "                           how=\"left\",\n",
    "                           left_on=\"country\",\n",
    "                           right_on=\"hic\"\n",
    "                )\n",
    "\n",
    "subgrid_df[\"high_income\"] = ~pd.isna(subgrid_df.hic)\n",
    "subgrid_df[\"low_middle_income\"] = ~pd.isna(subgrid_df.lic)\n",
    "subgrid_df.drop(columns=[\"lic\",\"hic\"], inplace=True)\n",
    "subgrid_df.to_csv(\"data/worldbank_grid_high_low_income.csv\", index=False)"
   ]
  },
  {
   "cell_type": "code",
   "execution_count": null,
   "id": "7df60fcd-28be-480b-8282-3ccc684fe03a",
   "metadata": {},
   "outputs": [],
   "source": [
    "subgrid_df.head()"
   ]
  }
 ],
 "metadata": {
  "kernelspec": {
   "display_name": "climate",
   "language": "python",
   "name": "climate"
  },
  "language_info": {
   "codemirror_mode": {
    "name": "ipython",
    "version": 3
   },
   "file_extension": ".py",
   "mimetype": "text/x-python",
   "name": "python",
   "nbconvert_exporter": "python",
   "pygments_lexer": "ipython3",
   "version": "3.8.10"
  }
 },
 "nbformat": 4,
 "nbformat_minor": 5
}
