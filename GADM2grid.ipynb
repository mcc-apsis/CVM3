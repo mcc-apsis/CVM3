{
 "cells": [
  {
   "cell_type": "code",
   "execution_count": 1,
   "id": "12faffb8-639a-45b7-a217-001583a90091",
   "metadata": {},
   "outputs": [],
   "source": [
    "import geopandas\n",
    "import math\n",
    "import numpy as np\n",
    "import pandas as pd\n",
    "import shapely\n",
    "import shapely.vectorized"
   ]
  },
  {
   "cell_type": "code",
   "execution_count": 2,
   "id": "7c2f150e-c662-486e-96e2-5eeedb4300b9",
   "metadata": {},
   "outputs": [],
   "source": [
    "def generate_area_cell(lat, lon, degrees): \n",
    "    # calculate the area of a gridcell given the center lat and lon and the size in degrees\n",
    "    if lon <0:\n",
    "        lon+=360\n",
    "    R = 6371\n",
    "    f0 = math.radians(lat-degrees*0.5)\n",
    "    f1 = math.radians(lat+degrees*0.5)\n",
    "    l0 = math.radians(lon-degrees*0.5)\n",
    "    l1 = math.radians(lon+degrees*0.5)\n",
    "\n",
    "    return (math.sin(f1)-math.sin(f0)) * (l1 - l0) * R**2"
   ]
  },
  {
   "cell_type": "code",
   "execution_count": 3,
   "id": "7e918fca-4093-4e7d-aeda-a63d9786faba",
   "metadata": {},
   "outputs": [
    {
     "name": "stdout",
     "output_type": "stream",
     "text": [
      "(259200, 9)\n"
     ]
    }
   ],
   "source": [
    "# make grids\n",
    "degrees = 0.5\n",
    "da_degrees = 2.5\n",
    "lons = np.linspace(-180+degrees*.5,180-degrees*.5,int(360/degrees))\n",
    "lats = np.linspace(-90+degrees*.5,90-degrees*.5,int(180/degrees))\n",
    "xv, yv = np.meshgrid(lons,lats)\n",
    "\n",
    "subgrid_df = pd.DataFrame({\"lat_05\": yv.ravel(),\"lon_05\": xv.ravel(),})\n",
    "subgrid_df['LAT'] = subgrid_df['lat_05']//da_degrees*da_degrees+da_degrees*0.5\n",
    "subgrid_df['LON'] = subgrid_df['lon_05']//da_degrees*da_degrees+da_degrees*0.5\n",
    "\n",
    "rescale_degrees = 5\n",
    "subgrid_df['LAT_5'] = subgrid_df['lat_05']//rescale_degrees*rescale_degrees+rescale_degrees*0.5\n",
    "subgrid_df['LON_5'] = subgrid_df['lon_05']//rescale_degrees*rescale_degrees+rescale_degrees*0.5\n",
    "\n",
    "rescale_degrees = 2.5\n",
    "subgrid_df['LAT_25'] = subgrid_df['lat_05']//rescale_degrees*rescale_degrees+rescale_degrees*0.5\n",
    "subgrid_df['LON_25'] = subgrid_df['lon_05']//rescale_degrees*rescale_degrees+rescale_degrees*0.5\n",
    "\n",
    "subgrid_df['area'] = subgrid_df.apply(lambda x: generate_area_cell(x['lat_05'], x['lon_05'], 0.5), axis=1)\n",
    "print(subgrid_df.shape)"
   ]
  },
  {
   "cell_type": "code",
   "execution_count": 4,
   "id": "d9fe74a8-5c4c-4913-9c6a-cf7ec792acf0",
   "metadata": {},
   "outputs": [
    {
     "ename": "DriverError",
     "evalue": "data/GADM-shapefiles/countries.shp: No such file or directory",
     "output_type": "error",
     "traceback": [
      "\u001b[0;31m---------------------------------------------------------------------------\u001b[0m",
      "\u001b[0;31mCPLE_OpenFailedError\u001b[0m                      Traceback (most recent call last)",
      "File \u001b[0;32mfiona/_shim.pyx:83\u001b[0m, in \u001b[0;36mfiona._shim.gdal_open_vector\u001b[0;34m()\u001b[0m\n",
      "File \u001b[0;32mfiona/_err.pyx:291\u001b[0m, in \u001b[0;36mfiona._err.exc_wrap_pointer\u001b[0;34m()\u001b[0m\n",
      "\u001b[0;31mCPLE_OpenFailedError\u001b[0m: data/GADM-shapefiles/countries.shp: No such file or directory",
      "\nDuring handling of the above exception, another exception occurred:\n",
      "\u001b[0;31mDriverError\u001b[0m                               Traceback (most recent call last)",
      "Input \u001b[0;32mIn [4]\u001b[0m, in \u001b[0;36m<module>\u001b[0;34m\u001b[0m\n\u001b[1;32m      1\u001b[0m \u001b[38;5;66;03m# match on shape files\u001b[39;00m\n\u001b[0;32m----> 2\u001b[0m gdl \u001b[38;5;241m=\u001b[39m \u001b[43mgeopandas\u001b[49m\u001b[38;5;241;43m.\u001b[39;49m\u001b[43mread_file\u001b[49m\u001b[43m(\u001b[49m\u001b[38;5;124;43m\"\u001b[39;49m\u001b[38;5;124;43mdata/GADM-shapefiles/countries.shp\u001b[39;49m\u001b[38;5;124;43m\"\u001b[39;49m\u001b[43m)\u001b[49m\n\u001b[1;32m      4\u001b[0m subgrid_df[\u001b[38;5;124m\"\u001b[39m\u001b[38;5;124mGDLcode\u001b[39m\u001b[38;5;124m\"\u001b[39m] \u001b[38;5;241m=\u001b[39m np\u001b[38;5;241m.\u001b[39mnan\n\u001b[1;32m      5\u001b[0m subgrid_df[\u001b[38;5;124m\"\u001b[39m\u001b[38;5;124mcountry\u001b[39m\u001b[38;5;124m\"\u001b[39m] \u001b[38;5;241m=\u001b[39m np\u001b[38;5;241m.\u001b[39mnan\n",
      "File \u001b[0;32m~/projects/climate_change_impact/climate/lib/python3.8/site-packages/geopandas/io/file.py:201\u001b[0m, in \u001b[0;36m_read_file\u001b[0;34m(filename, bbox, mask, rows, **kwargs)\u001b[0m\n\u001b[1;32m    198\u001b[0m     reader \u001b[38;5;241m=\u001b[39m fiona\u001b[38;5;241m.\u001b[39mopen\n\u001b[1;32m    200\u001b[0m \u001b[38;5;28;01mwith\u001b[39;00m fiona_env():\n\u001b[0;32m--> 201\u001b[0m     \u001b[38;5;28;01mwith\u001b[39;00m \u001b[43mreader\u001b[49m\u001b[43m(\u001b[49m\u001b[43mpath_or_bytes\u001b[49m\u001b[43m,\u001b[49m\u001b[43m \u001b[49m\u001b[38;5;241;43m*\u001b[39;49m\u001b[38;5;241;43m*\u001b[39;49m\u001b[43mkwargs\u001b[49m\u001b[43m)\u001b[49m \u001b[38;5;28;01mas\u001b[39;00m features:\n\u001b[1;32m    202\u001b[0m \n\u001b[1;32m    203\u001b[0m         \u001b[38;5;66;03m# In a future Fiona release the crs attribute of features will\u001b[39;00m\n\u001b[1;32m    204\u001b[0m         \u001b[38;5;66;03m# no longer be a dict, but will behave like a dict. So this should\u001b[39;00m\n\u001b[1;32m    205\u001b[0m         \u001b[38;5;66;03m# be forwards compatible\u001b[39;00m\n\u001b[1;32m    206\u001b[0m         crs \u001b[38;5;241m=\u001b[39m (\n\u001b[1;32m    207\u001b[0m             features\u001b[38;5;241m.\u001b[39mcrs[\u001b[38;5;124m\"\u001b[39m\u001b[38;5;124minit\u001b[39m\u001b[38;5;124m\"\u001b[39m]\n\u001b[1;32m    208\u001b[0m             \u001b[38;5;28;01mif\u001b[39;00m features\u001b[38;5;241m.\u001b[39mcrs \u001b[38;5;129;01mand\u001b[39;00m \u001b[38;5;124m\"\u001b[39m\u001b[38;5;124minit\u001b[39m\u001b[38;5;124m\"\u001b[39m \u001b[38;5;129;01min\u001b[39;00m features\u001b[38;5;241m.\u001b[39mcrs\n\u001b[1;32m    209\u001b[0m             \u001b[38;5;28;01melse\u001b[39;00m features\u001b[38;5;241m.\u001b[39mcrs_wkt\n\u001b[1;32m    210\u001b[0m         )\n\u001b[1;32m    212\u001b[0m         \u001b[38;5;66;03m# handle loading the bounding box\u001b[39;00m\n",
      "File \u001b[0;32m~/projects/climate_change_impact/climate/lib/python3.8/site-packages/fiona/env.py:408\u001b[0m, in \u001b[0;36mensure_env_with_credentials.<locals>.wrapper\u001b[0;34m(*args, **kwargs)\u001b[0m\n\u001b[1;32m    405\u001b[0m \u001b[38;5;129m@wraps\u001b[39m(f)\n\u001b[1;32m    406\u001b[0m \u001b[38;5;28;01mdef\u001b[39;00m \u001b[38;5;21mwrapper\u001b[39m(\u001b[38;5;241m*\u001b[39margs, \u001b[38;5;241m*\u001b[39m\u001b[38;5;241m*\u001b[39mkwargs):\n\u001b[1;32m    407\u001b[0m     \u001b[38;5;28;01mif\u001b[39;00m local\u001b[38;5;241m.\u001b[39m_env:\n\u001b[0;32m--> 408\u001b[0m         \u001b[38;5;28;01mreturn\u001b[39;00m \u001b[43mf\u001b[49m\u001b[43m(\u001b[49m\u001b[38;5;241;43m*\u001b[39;49m\u001b[43margs\u001b[49m\u001b[43m,\u001b[49m\u001b[43m \u001b[49m\u001b[38;5;241;43m*\u001b[39;49m\u001b[38;5;241;43m*\u001b[39;49m\u001b[43mkwargs\u001b[49m\u001b[43m)\u001b[49m\n\u001b[1;32m    409\u001b[0m     \u001b[38;5;28;01melse\u001b[39;00m:\n\u001b[1;32m    410\u001b[0m         \u001b[38;5;28;01mif\u001b[39;00m \u001b[38;5;28misinstance\u001b[39m(args[\u001b[38;5;241m0\u001b[39m], \u001b[38;5;28mstr\u001b[39m):\n",
      "File \u001b[0;32m~/projects/climate_change_impact/climate/lib/python3.8/site-packages/fiona/__init__.py:264\u001b[0m, in \u001b[0;36mopen\u001b[0;34m(fp, mode, driver, schema, crs, encoding, layer, vfs, enabled_drivers, crs_wkt, **kwargs)\u001b[0m\n\u001b[1;32m    261\u001b[0m     path \u001b[38;5;241m=\u001b[39m parse_path(fp)\n\u001b[1;32m    263\u001b[0m \u001b[38;5;28;01mif\u001b[39;00m mode \u001b[38;5;129;01min\u001b[39;00m (\u001b[38;5;124m'\u001b[39m\u001b[38;5;124ma\u001b[39m\u001b[38;5;124m'\u001b[39m, \u001b[38;5;124m'\u001b[39m\u001b[38;5;124mr\u001b[39m\u001b[38;5;124m'\u001b[39m):\n\u001b[0;32m--> 264\u001b[0m     c \u001b[38;5;241m=\u001b[39m \u001b[43mCollection\u001b[49m\u001b[43m(\u001b[49m\u001b[43mpath\u001b[49m\u001b[43m,\u001b[49m\u001b[43m \u001b[49m\u001b[43mmode\u001b[49m\u001b[43m,\u001b[49m\u001b[43m \u001b[49m\u001b[43mdriver\u001b[49m\u001b[38;5;241;43m=\u001b[39;49m\u001b[43mdriver\u001b[49m\u001b[43m,\u001b[49m\u001b[43m \u001b[49m\u001b[43mencoding\u001b[49m\u001b[38;5;241;43m=\u001b[39;49m\u001b[43mencoding\u001b[49m\u001b[43m,\u001b[49m\n\u001b[1;32m    265\u001b[0m \u001b[43m                   \u001b[49m\u001b[43mlayer\u001b[49m\u001b[38;5;241;43m=\u001b[39;49m\u001b[43mlayer\u001b[49m\u001b[43m,\u001b[49m\u001b[43m \u001b[49m\u001b[43menabled_drivers\u001b[49m\u001b[38;5;241;43m=\u001b[39;49m\u001b[43menabled_drivers\u001b[49m\u001b[43m,\u001b[49m\u001b[43m \u001b[49m\u001b[38;5;241;43m*\u001b[39;49m\u001b[38;5;241;43m*\u001b[39;49m\u001b[43mkwargs\u001b[49m\u001b[43m)\u001b[49m\n\u001b[1;32m    266\u001b[0m \u001b[38;5;28;01melif\u001b[39;00m mode \u001b[38;5;241m==\u001b[39m \u001b[38;5;124m'\u001b[39m\u001b[38;5;124mw\u001b[39m\u001b[38;5;124m'\u001b[39m:\n\u001b[1;32m    267\u001b[0m     \u001b[38;5;28;01mif\u001b[39;00m schema:\n\u001b[1;32m    268\u001b[0m         \u001b[38;5;66;03m# Make an ordered dict of schema properties.\u001b[39;00m\n",
      "File \u001b[0;32m~/projects/climate_change_impact/climate/lib/python3.8/site-packages/fiona/collection.py:162\u001b[0m, in \u001b[0;36mCollection.__init__\u001b[0;34m(self, path, mode, driver, schema, crs, encoding, layer, vsi, archive, enabled_drivers, crs_wkt, ignore_fields, ignore_geometry, **kwargs)\u001b[0m\n\u001b[1;32m    160\u001b[0m \u001b[38;5;28;01mif\u001b[39;00m \u001b[38;5;28mself\u001b[39m\u001b[38;5;241m.\u001b[39mmode \u001b[38;5;241m==\u001b[39m \u001b[38;5;124m'\u001b[39m\u001b[38;5;124mr\u001b[39m\u001b[38;5;124m'\u001b[39m:\n\u001b[1;32m    161\u001b[0m     \u001b[38;5;28mself\u001b[39m\u001b[38;5;241m.\u001b[39msession \u001b[38;5;241m=\u001b[39m Session()\n\u001b[0;32m--> 162\u001b[0m     \u001b[38;5;28;43mself\u001b[39;49m\u001b[38;5;241;43m.\u001b[39;49m\u001b[43msession\u001b[49m\u001b[38;5;241;43m.\u001b[39;49m\u001b[43mstart\u001b[49m\u001b[43m(\u001b[49m\u001b[38;5;28;43mself\u001b[39;49m\u001b[43m,\u001b[49m\u001b[43m \u001b[49m\u001b[38;5;241;43m*\u001b[39;49m\u001b[38;5;241;43m*\u001b[39;49m\u001b[43mkwargs\u001b[49m\u001b[43m)\u001b[49m\n\u001b[1;32m    163\u001b[0m \u001b[38;5;28;01melif\u001b[39;00m \u001b[38;5;28mself\u001b[39m\u001b[38;5;241m.\u001b[39mmode \u001b[38;5;129;01min\u001b[39;00m (\u001b[38;5;124m'\u001b[39m\u001b[38;5;124ma\u001b[39m\u001b[38;5;124m'\u001b[39m, \u001b[38;5;124m'\u001b[39m\u001b[38;5;124mw\u001b[39m\u001b[38;5;124m'\u001b[39m):\n\u001b[1;32m    164\u001b[0m     \u001b[38;5;28mself\u001b[39m\u001b[38;5;241m.\u001b[39msession \u001b[38;5;241m=\u001b[39m WritingSession()\n",
      "File \u001b[0;32mfiona/ogrext.pyx:540\u001b[0m, in \u001b[0;36mfiona.ogrext.Session.start\u001b[0;34m()\u001b[0m\n",
      "File \u001b[0;32mfiona/_shim.pyx:90\u001b[0m, in \u001b[0;36mfiona._shim.gdal_open_vector\u001b[0;34m()\u001b[0m\n",
      "\u001b[0;31mDriverError\u001b[0m: data/GADM-shapefiles/countries.shp: No such file or directory"
     ]
    }
   ],
   "source": [
    "# match on shape files\n",
    "gdl = geopandas.read_file(\"GADM-shapefiles/countries.shp\")\n",
    "\n",
    "subgrid_df[\"GDLcode\"] = np.nan\n",
    "subgrid_df[\"country\"] = np.nan\n",
    "for i, row in gdl.iterrows():\n",
    "    contains = shapely.vectorized.contains(row.geometry,xv,yv).ravel()\n",
    "    idx = np.argwhere(contains==True).ravel()\n",
    "\n",
    "    subgrid_df.loc[idx, \"GDLcode\"]=row['GID_0']\n",
    "    subgrid_df.loc[idx, \"country\"]=row[\"COUNTRY\"]"
   ]
  },
  {
   "cell_type": "code",
   "execution_count": null,
   "id": "8e63d0cd-7f15-430e-a298-4d361e1c0afa",
   "metadata": {},
   "outputs": [],
   "source": [
    "# high and low income countries\n",
    "with open(\"data/high_income_countries.txt\") as f:\n",
    "    hic = f.readlines()\n",
    "    hic = [h.strip('\\n') for h in hic]\n",
    "with open(\"Glow_middle_income_countries.txt\") as f:\n",
    "    lic = f.readlines()\n",
    "    lic = [h.strip('\\n') for h in lic]    "
   ]
  },
  {
   "cell_type": "code",
   "execution_count": null,
   "id": "bf7a6c25-d0ae-49a4-b888-19868e52c780",
   "metadata": {},
   "outputs": [],
   "source": [
    "# clean countries to match shapefile names\n",
    "lic = pd.DataFrame({\"lic\":lic})\n",
    "lic.loc[lic.lic==\"China (People's Republic of)\"]=\"China\"\n",
    "lic.loc[lic.lic==\"Democratic Republic of Congo\"]=\"Democratic Republic of the Congo\"\n",
    "lic.loc[lic.lic==\"Congo\"]=\"Republic of the Congo\"\n",
    "lic.loc[lic.lic==\"Mexico\"]=\"México\"\n",
    "lic.loc[lic.lic==\"Lao People's Democratic Republic\"]=\"Laos\"\n",
    "lic.loc[lic.lic==\"Democratic People's Republic of Korea\"] =\"North Korea\"\n",
    "\n",
    "hic = pd.DataFrame({\"hic\":hic})\n",
    "hic.loc[hic.hic==\"Bahamas, The\"]=\"Bahamas\"\n",
    "hic.loc[hic.hic==\"Czech Republic\"]=\"Czechia\"\n",
    "hic.loc[hic.hic==\"Slovak Republic\"]=\"Slovakia\"\n",
    "hic.loc[hic.hic==\"Korea, Rep.\"]=\"South Korea\"\n",
    "hic.loc[hic.hic==\"Taiwan, China\"]=\"Taiwan\"\n"
   ]
  },
  {
   "cell_type": "code",
   "execution_count": null,
   "id": "9d9c6cd6-fcc4-4e7c-977e-e71503254bb5",
   "metadata": {},
   "outputs": [],
   "source": [
    "subgrid_df = subgrid_df.merge(lic,\n",
    "                           how=\"left\",\n",
    "                           left_on=\"country\",\n",
    "                           right_on=\"lic\"\n",
    "                )\n",
    "subgrid_df = subgrid_df.merge(hic,\n",
    "                           how=\"left\",\n",
    "                           left_on=\"country\",\n",
    "                           right_on=\"hic\"\n",
    "                )\n",
    "\n",
    "subgrid_df[\"high_income\"] = ~pd.isna(subgrid_df.hic)\n",
    "subgrid_df[\"low_middle_income\"] = ~pd.isna(subgrid_df.lic)\n",
    "subgrid_df.drop(columns=[\"lic\",\"hic\"], inplace=True)\n",
    "subgrid_df.to_csv(\"GADM_grid_high_low_income.csv\", index=False)"
   ]
  },
  {
   "cell_type": "code",
   "execution_count": null,
   "id": "7df60fcd-28be-480b-8282-3ccc684fe03a",
   "metadata": {},
   "outputs": [],
   "source": [
    "subgrid_df.head()"
   ]
  }
 ],
 "metadata": {
  "kernelspec": {
   "display_name": "climate",
   "language": "python",
   "name": "climate"
  },
  "language_info": {
   "codemirror_mode": {
    "name": "ipython",
    "version": 3
   },
   "file_extension": ".py",
   "mimetype": "text/x-python",
   "name": "python",
   "nbconvert_exporter": "python",
   "pygments_lexer": "ipython3",
   "version": "3.8.10"
  }
 },
 "nbformat": 4,
 "nbformat_minor": 5
}
